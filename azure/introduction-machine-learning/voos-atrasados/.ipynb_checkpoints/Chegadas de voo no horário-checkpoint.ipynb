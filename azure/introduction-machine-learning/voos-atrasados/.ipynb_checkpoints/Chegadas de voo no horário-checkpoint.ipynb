{
 "cells": [
  {
   "cell_type": "code",
   "execution_count": 3,
   "metadata": {},
   "outputs": [
    {
     "name": "stderr",
     "output_type": "stream",
     "text": [
      "  % Total    % Received % Xferd  Average Speed   Time    Time     Time  Current\n",
      "                                 Dload  Upload   Total   Spent    Left  Speed\n",
      "\n",
      "  0     0    0     0    0     0      0      0 --:--:-- --:--:-- --:--:--     0\n",
      "  5 1552k    5 81514    0     0  74306      0  0:00:21  0:00:01  0:00:20 74374\n",
      " 20 1552k   20  319k    0     0   162k      0  0:00:09  0:00:01  0:00:08  162k\n",
      " 38 1552k   38  591k    0     0   198k      0  0:00:07  0:00:02  0:00:05  198k\n",
      " 59 1552k   59  927k    0     0   234k      0  0:00:06  0:00:03  0:00:03  234k\n",
      " 84 1552k   84 1311k    0     0   261k      0  0:00:05  0:00:05 --:--:--  262k\n",
      "100 1552k  100 1552k    0     0   280k      0  0:00:05  0:00:05 --:--:--  332k\n"
     ]
    }
   ],
   "source": [
    "!curl https://topcs.blob.core.windows.net/public/FlightData.csv -o flightdata.csv"
   ]
  },
  {
   "cell_type": "markdown",
   "metadata": {},
   "source": [
    "Esse comando baixa um arquivo CSV do Armazenamento de Blobs do Azure e salva-o usando o nome flightdata.csv."
   ]
  },
  {
   "cell_type": "code",
   "execution_count": 4,
   "metadata": {},
   "outputs": [
    {
     "ename": "ModuleNotFoundError",
     "evalue": "No module named 'pandas'",
     "output_type": "error",
     "traceback": [
      "\u001b[1;31m---------------------------------------------------------------------------\u001b[0m",
      "\u001b[1;31mModuleNotFoundError\u001b[0m                       Traceback (most recent call last)",
      "\u001b[1;32m<ipython-input-4-236ed934b5e1>\u001b[0m in \u001b[0;36m<module>\u001b[1;34m\u001b[0m\n\u001b[1;32m----> 1\u001b[1;33m \u001b[1;32mimport\u001b[0m \u001b[0mpandas\u001b[0m \u001b[1;32mas\u001b[0m \u001b[0mpd\u001b[0m\u001b[1;33m\u001b[0m\u001b[1;33m\u001b[0m\u001b[0m\n\u001b[0m\u001b[0;32m      2\u001b[0m \u001b[1;33m\u001b[0m\u001b[0m\n\u001b[0;32m      3\u001b[0m \u001b[0mdf\u001b[0m \u001b[1;33m=\u001b[0m \u001b[0mpd\u001b[0m\u001b[1;33m.\u001b[0m\u001b[0mread_csv\u001b[0m\u001b[1;33m(\u001b[0m\u001b[1;34m'flightdata.csv'\u001b[0m\u001b[1;33m)\u001b[0m\u001b[1;33m\u001b[0m\u001b[1;33m\u001b[0m\u001b[0m\n\u001b[0;32m      4\u001b[0m \u001b[0mdf\u001b[0m\u001b[1;33m.\u001b[0m\u001b[0mhead\u001b[0m\u001b[1;33m(\u001b[0m\u001b[1;33m)\u001b[0m\u001b[1;33m\u001b[0m\u001b[1;33m\u001b[0m\u001b[0m\n",
      "\u001b[1;31mModuleNotFoundError\u001b[0m: No module named 'pandas'"
     ]
    }
   ],
   "source": [
    "import pandas as pd\n",
    "\n",
    "df = pd.read_csv('flightdata.csv')\n",
    "df.head()"
   ]
  },
  {
   "cell_type": "markdown",
   "metadata": {},
   "source": [
    "carregar flightdata.csv, criar um DataFrame do Pandas com base nesse arquivo e exibir as primeiras cinco linhas."
   ]
  },
  {
   "cell_type": "markdown",
   "metadata": {},
   "source": [
    "O DataFrame contém informações de chegada no horário para uma grande companhia aérea dos EUA. Ele tem mais de 11.000 linhas e 26 colunas. (A saída diz \"5 linhas\" porque a função head do DataFrame retorna apenas as primeiras cinco linhas.) Cada linha representa um voo e contém informações como a origem, o destino, a hora de partida agendada e se o voo chegou na hora ou atrasado. Examinaremos os dados mais detalhadamente um pouco mais tarde neste módulo."
   ]
  },
  {
   "cell_type": "code",
   "execution_count": null,
   "metadata": {},
   "outputs": [],
   "source": [
    "df.shape"
   ]
  },
  {
   "cell_type": "code",
   "execution_count": null,
   "metadata": {},
   "outputs": [],
   "source": [
    "df.isnull().values.any()"
   ]
  },
  {
   "cell_type": "markdown",
   "metadata": {},
   "source": [
    "##### Para obter uma contagem, digite a seguinte instrução.\n",
    "Obter uma contagem de linhas e de colunas"
   ]
  },
  {
   "cell_type": "markdown",
   "metadata": {},
   "source": [
    "Aqui está uma lista completa das colunas no conjunto de dados. Os horários são expressos em formato de 24 horas. Por exemplo, 1130 é igual a 11:30. e 1500 é igual a 15:00.\n",
    "\n",
    "##### Coluna\tDescrição\n",
    "###### YEAR\t\n",
    "O ano em que o voo foi realizado\n",
    "###### \n",
    "QUARTER\tO trimestre em que o voo foi realizado (1-4)\n",
    "###### MONTH\t\n",
    "O mês em que o voo foi realizado (1-12)\n",
    "###### DAY_OF_MONTH\t\n",
    "O dia do mês em que o voo foi realizado (1-31)\n",
    "###### DAY_OF_WEEK\t\n",
    "Dia da semana em que o voo ocorreu (1=segunda-feira, 2=terça-feira, etc.)\n",
    "###### UNIQUE_CARRIER\t\n",
    "Código da operadora de companhia aérea (por exemplo, DL)\n",
    "###### TAIL_NUM\t\n",
    "Número da cauda da aeronave\n",
    "###### FL_NUM\t\n",
    "Número do voo\n",
    "###### ORIGIN_AIRPORT_ID\t\n",
    "ID do aeroporto de origem\n",
    "###### ORIGIN\t\n",
    "Código do aeroporto de origem (ATL, DFW, SEA, etc.)\n",
    "###### DEST_AIRPORT_ID\t\n",
    "ID do aeroporto de destino\n",
    "###### DEST\t\n",
    "Código do aeroporto de destino (ATL, DFW, SEA, etc.)\n",
    "###### CRS_DEP_TIME\t\n",
    "Hora de partida agendada\n",
    "###### DEP_TIME\t\n",
    "Hora de partida real\n",
    "###### DEP_DELAY\t\n",
    "Número de minutos em que a partida foi atrasada\n",
    "###### DEP_DEL15\t0=Partida atrasada em menos de 15 minutos, 1=Partida atrasada em 15 minutos ou mais\n",
    "###### CRS_ARR_TIME\t\n",
    "Hora de chegada agendada\n",
    "###### ARR_TIME\t\n",
    "Hora de chegada real\n",
    "###### ARR_DELAY\t\n",
    "Número de minutos em que a chegada do voo atrasou\n",
    "###### ARR_DEL15\t0=Chegou com menos de 15 minutos de atraso, 1=Chegou com 15 minutos de atraso ou mais\n",
    "###### CANCELLED\t0=O voo não foi cancelado, 1=O voo foi cancelado\n",
    "###### DIVERTED\t0=O voo não foi desviado, 1=O voo foi desviado\n",
    "###### CRS_ELAPSED_TIME\t\n",
    "Tempo de voo agendado em minutos\n",
    "###### ACTUAL_ELAPSED_TIME\t\n",
    "Tempo de voo real em minutos\n",
    "###### DISTANCE\t\n",
    "Distância percorrida em milhas"
   ]
  },
  {
   "cell_type": "markdown",
   "metadata": {},
   "source": [
    "O conjunto de dados inclui uma distribuição aproximadamente uniforme de datas ao longo do ano, o que é importante porque um voo saindo de Minneapolis tem menos probabilidade de atrasar devido a tempestades de inverno em julho do que em janeiro. Mas esse conjunto de dados está longe de ser \"limpo\" e pronto para uso. Vamos escrever um código de Pandas para limpá-lo.\n",
    "\n",
    "Um dos aspectos mais importantes de preparação de um conjunto de dados para uso no machine learning é selecionar as colunas de \"recurso\" que são relevantes para o resultado que você está tentando prever, filtrando colunas que não afetam o resultado, que poderiam influenciá-lo de forma negativa ou que podem pode produzir multicolinearidade. Outra tarefa importante é eliminar valores ausentes, excluindo as linhas ou colunas que os contêm ou substituindo-os com valores significativos. Neste exercício, você elimina colunas estranhas e substituir valores ausentes nas colunas restantes."
   ]
  },
  {
   "cell_type": "markdown",
   "metadata": {},
   "source": [
    "##### Valores ausentes são uma das primeiras coisas que os cientistas de dados normalmente procuram em um conjunto de dados. Há uma maneira fácil de verificar se há valores ausentes no Pandas"
   ]
  },
  {
   "cell_type": "code",
   "execution_count": null,
   "metadata": {},
   "outputs": [],
   "source": [
    "df.isnull().values.any()"
   ]
  },
  {
   "cell_type": "markdown",
   "metadata": {},
   "source": [
    "a saída é \"True\", o que indica que há pelo menos um valor ausente em algum lugar no conjunto de dados."
   ]
  },
  {
   "cell_type": "markdown",
   "metadata": {},
   "source": [
    "##### A próxima etapa é descobrir onde estão os valores ausentes"
   ]
  },
  {
   "cell_type": "code",
   "execution_count": null,
   "metadata": {},
   "outputs": [],
   "source": [
    "df.isnull().sum()"
   ]
  },
  {
   "cell_type": "code",
   "execution_count": null,
   "metadata": {},
   "outputs": [],
   "source": []
  },
  {
   "cell_type": "code",
   "execution_count": null,
   "metadata": {},
   "outputs": [],
   "source": []
  }
 ],
 "metadata": {
  "kernelspec": {
   "display_name": "Python 3",
   "language": "python",
   "name": "python3"
  },
  "language_info": {
   "codemirror_mode": {
    "name": "ipython",
    "version": 3
   },
   "file_extension": ".py",
   "mimetype": "text/x-python",
   "name": "python",
   "nbconvert_exporter": "python",
   "pygments_lexer": "ipython3",
   "version": "3.7.3"
  }
 },
 "nbformat": 4,
 "nbformat_minor": 2
}
